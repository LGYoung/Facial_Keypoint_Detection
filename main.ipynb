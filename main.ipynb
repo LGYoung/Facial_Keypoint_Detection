{
 "cells": [
  {
   "cell_type": "code",
   "execution_count": 1,
   "metadata": {
    "collapsed": true
   },
   "outputs": [],
   "source": [
    "import dlib\n",
    "import numpy as np\n",
    "import cv2\n",
    "import sys\n",
    "import os\n",
    "import glob\n",
    "import matplotlib.pyplot as plt"
   ]
  },
  {
   "cell_type": "code",
   "execution_count": 2,
   "metadata": {
    "collapsed": true
   },
   "outputs": [],
   "source": [
    "# config\n",
    "root_path = r'E:/ml/Facial_Keypoint_Detection'\n",
    "predictor_path = root_path + '/predictor/shape_predictor_68_face_landmarks.dat'\n",
    "faces_folder_path = root_path + '/img'\n",
    "results_path = root_path + '/results/'\n",
    "# print(dlib.__version__)"
   ]
  },
  {
   "cell_type": "code",
   "execution_count": 3,
   "metadata": {
    "collapsed": true
   },
   "outputs": [],
   "source": [
    "# if you directly save the img using plt.savefig, you will get the img with white paddings\n",
    "# this method save the img without any white space\n",
    "def save_image(data, fn):\n",
    "    sizes = np.shape(data)\n",
    "    height = float(sizes[0])\n",
    "    width = float(sizes[1])\n",
    "     \n",
    "    fig = plt.figure()\n",
    "    fig.set_size_inches(width/height, 1, forward=False)\n",
    "    ax = plt.Axes(fig, [0., 0., 1., 1.])\n",
    "    ax.set_axis_off()\n",
    "    fig.add_axes(ax)\n",
    " \n",
    "    ax.imshow(data)\n",
    "    plt.savefig(fn, dpi = height) \n",
    "    plt.close()"
   ]
  },
  {
   "cell_type": "code",
   "execution_count": 5,
   "metadata": {
    "scrolled": true
   },
   "outputs": [
    {
     "name": "stdout",
     "output_type": "stream",
     "text": [
      "Processing file: E:/ml/Facial_Keypoint_Detection/img\\test.png\n",
      "Number of faces detected: 1\n"
     ]
    }
   ],
   "source": [
    "detector = dlib.get_frontal_face_detector()\n",
    "predictor = dlib.shape_predictor(predictor_path)\n",
    "win = dlib.image_window()\n",
    "\n",
    "# get the detection resuluts and landmarks from the img\n",
    "# save the landmarks in the corresponding npy file\n",
    "for f in glob.glob(os.path.join(faces_folder_path, \"*.png\")):\n",
    "    print(\"Processing file: {}\".format(f))\n",
    "    img = cv2.imread(f)\n",
    "    img = img[:, :, ::-1]\n",
    "\n",
    "    win.clear_overlay()\n",
    "    win.set_image(img)\n",
    "    dets = detector(img, 1)\n",
    "    print(\"Number of faces detected: {}\".format(len(dets)))\n",
    "    for k, d in enumerate(dets):\n",
    "        shape = predictor(img, d)\n",
    "        points = []\n",
    "        for i in range(68):\n",
    "            points.append((shape.part(i).x, shape.part(i).y))\n",
    "        points = np.array(points)\n",
    "        filename = f.split('\\\\')[-1].split('.')[0] + '.npy'\n",
    "        pointspath = 'points/' + filename\n",
    "        np.save(pointspath, points)\n",
    "        win.add_overlay(shape)\n",
    "    win.add_overlay(dets)\n",
    "    dlib.hit_enter_to_continue()"
   ]
  },
  {
   "cell_type": "code",
   "execution_count": 6,
   "metadata": {},
   "outputs": [],
   "source": [
    "process_error = []\n",
    "# read the landmarks from npy files\n",
    "# use the landmarks to generate heatmap and save it in the results\n",
    "# at the same time process the error img because the detector can't detect faces in some imgs\n",
    "for f in glob.glob(os.path.join(faces_folder_path, \"*.png\")):\n",
    "    filename = f.split('\\\\')[-1].split('.')[0]\n",
    "    pointspath = 'points/' + filename + '.npy'\n",
    "    try:\n",
    "        points = np.load(pointspath)\n",
    "    except FileNotFoundError:\n",
    "        print(\"An error occurs when processing \" + filename + '.png ')\n",
    "        process_error.append(filename+'.png')\n",
    "        continue\n",
    "    if len(process_error) >= 15:\n",
    "        with open('error.txt', mode='a+') as p:\n",
    "            for i in process_error:\n",
    "                p.write(i + '\\n')\n",
    "        process_error = []\n",
    "    img = cv2.imread(f)\n",
    "    img = img[:, :, ::-1]\n",
    "    h = np.arange(0, img.shape[0])\n",
    "    w = np.arange(0, img.shape[1])\n",
    "    gridh, gridw = np.meshgrid(w, h)\n",
    "    grids = np.vstack([gridh.ravel(), gridw.ravel()]).T\n",
    "    points = points[:, np.newaxis, :]\n",
    "    grids = grids[np.newaxis, :, :]\n",
    "    grids = grids.repeat(68, axis=0)\n",
    "    dx = (grids[:, :, 0] - points[:, :, 0]) ** 2\n",
    "    dy = (grids[:, :, 1] - points[:, :, 1]) ** 2\n",
    "    Gxy = (1.0 / (np.pi * 2)) * np.exp(-(dx + dy) / 2.0)\n",
    "    heatmap = np.sum(Gxy, axis=0)\n",
    "    heatmap = heatmap.reshape(*img.shape[:2])\n",
    "    save_image(data=heatmap, fn=results_path + filename + '.png')\n",
    "with open('error.txt', mode='a+') as p:\n",
    "    for i in process_error:\n",
    "        p.write(i + '\\n')"
   ]
  },
  {
   "cell_type": "code",
   "execution_count": 7,
   "metadata": {},
   "outputs": [
    {
     "data": {
      "image/png": "[encoded data removed]",
      "text/plain": [
       "<Figure size 432x288 with 1 Axes>"
      ]
     },
     "metadata": {
      "needs_background": "light"
     },
     "output_type": "display_data"
    }
   ],
   "source": [
    "# test the result\n",
    "for f in glob.glob(os.path.join(results_path, \"*.png\")):\n",
    "    img = cv2.imread(f)\n",
    "    img = img[:, :, ::-1]\n",
    "    plt.imshow(img)\n",
    "    plt.show()"
   ]
  },
  {
   "cell_type": "code",
   "execution_count": null,
   "metadata": {
    "collapsed": true
   },
   "outputs": [],
   "source": []
  }
 ],
 "metadata": {
  "kernelspec": {
   "display_name": "Pytorch",
   "language": "python",
   "name": "pytorch"
  },
  "language_info": {
   "codemirror_mode": {
    "name": "ipython",
    "version": 3
   },
   "file_extension": ".py",
   "mimetype": "text/x-python",
   "name": "python",
   "nbconvert_exporter": "python",
   "pygments_lexer": "ipython3",
   "version": "3.6.6"
  }
 },
 "nbformat": 4,
 "nbformat_minor": 2
}
